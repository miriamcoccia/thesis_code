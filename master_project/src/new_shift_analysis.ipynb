{
 "cells": [
  {
   "cell_type": "code",
   "execution_count": 214,
   "metadata": {},
   "outputs": [],
   "source": [
    "import json\n",
    "\n",
    "def load_question_codes(question_codes_path):\n",
    "    \"\"\"Loads question codes and their numerical mappings.\"\"\"\n",
    "    with open(question_codes_path, 'r') as f:\n",
    "        question_codes = json.load(f)\n",
    "    \n",
    "    # Create a mapping from question to options\n",
    "    question_options_mapping = {}\n",
    "    for entry in question_codes:\n",
    "        question = entry['question']\n",
    "        options = entry['options']\n",
    "        # Reverse the options to map text -> number\n",
    "        reversed_options = {v.lower(): k for k, v in options.items()}\n",
    "        question_options_mapping[question] = reversed_options\n",
    "\n",
    "    return question_options_mapping\n"
   ]
  },
  {
   "cell_type": "code",
   "execution_count": null,
   "metadata": {},
   "outputs": [],
   "source": []
  },
  {
   "cell_type": "code",
   "execution_count": 225,
   "metadata": {},
   "outputs": [],
   "source": [
    "import json\n",
    "\n",
    "def map_responses_to_numerical_values(responses_path, question_codes_path, output_path):\n",
    "    \"\"\"Maps selected options in both before and after responses to their corresponding numerical values based on question codes.\"\"\"\n",
    "    \n",
    "    # Load the question codes with their options\n",
    "    question_options_mapping = load_question_codes(question_codes_path)\n",
    "\n",
    "    # Read the entire file as one single JSON-like string\n",
    "    with open(responses_path, 'r') as f:\n",
    "        content = f.read()\n",
    "\n",
    "    # Fix issues with trailing commas and extra characters\n",
    "    content = content.replace('\\n', '').replace('},}', '}}')  # Fix any trailing commas\n",
    "    content = '[' + content.rstrip(',') + ']'  # Wrap the content into a list of JSON objects\n",
    "\n",
    "    # Parse the entire content as JSON\n",
    "    try:\n",
    "        responses = json.loads(content)\n",
    "    except json.JSONDecodeError as e:\n",
    "        print(f\"Error parsing the JSON file: {e}\")\n",
    "        return\n",
    "\n",
    "    # Initialize a list to store the mapped responses\n",
    "    mapped_responses = []\n",
    "\n",
    "    def process_single_response(response):\n",
    "        \"\"\"Processes a single response and maps it to a numerical value.\"\"\"\n",
    "        if 'article_index' in response:\n",
    "            # After-response\n",
    "            question = response['question']\n",
    "            selected_option = response.get('numerical_response') or response['response']['selected_option'].lower()\n",
    "        else:\n",
    "            # Before-response\n",
    "            question_full = response['question']\n",
    "            question = question_full.split('**Question**: ')[-1].split('\\n')[0].strip()\n",
    "            selected_option = response['response']['selected_option'].lower()\n",
    "\n",
    "        # Handle 'n/a' case by assigning a default value\n",
    "        if selected_option == 'n/a':\n",
    "            numerical_value = 0  # Default value for 'n/a'\n",
    "        elif question in question_options_mapping:\n",
    "            options_mapping = question_options_mapping[question]\n",
    "\n",
    "            # Map the selected option to a number\n",
    "            if selected_option in options_mapping:\n",
    "                numerical_value = options_mapping[selected_option]\n",
    "            else:\n",
    "                print(f\"Warning: No match found for selected option '{selected_option}' in question '{question}'\")\n",
    "                return None\n",
    "        else:\n",
    "            print(f\"Warning: Question '{question}' not found in question codes.\")\n",
    "            return None\n",
    "\n",
    "        # Return the mapped response\n",
    "        mapped_response = {\n",
    "            \"user_id\": response['user_id'],\n",
    "            \"question\": question,\n",
    "            \"numerical_response\": numerical_value\n",
    "        }\n",
    "\n",
    "        if 'article_index' in response:\n",
    "            mapped_response['article_index'] = response['article_index']\n",
    "        \n",
    "        return mapped_response\n",
    "\n",
    "    # Iterate over the responses\n",
    "    for response in responses:\n",
    "        if isinstance(response, list):\n",
    "            # If the response is a list, process each entry individually\n",
    "            for item in response:\n",
    "                mapped_response = process_single_response(item)\n",
    "                if mapped_response:\n",
    "                    mapped_responses.append(mapped_response)\n",
    "        else:\n",
    "            # Process as a single response\n",
    "            mapped_response = process_single_response(response)\n",
    "            if mapped_response:\n",
    "                mapped_responses.append(mapped_response)\n",
    "\n",
    "    # Save the mapped responses to the output file\n",
    "    with open(output_path, 'w') as outfile:\n",
    "        for mapped_response in mapped_responses:\n",
    "            outfile.write(json.dumps(mapped_response) + '\\n')\n",
    "\n",
    "    print(f\"Mapped responses saved to {output_path}\")\n"
   ]
  },
  {
   "cell_type": "code",
   "execution_count": 226,
   "metadata": {},
   "outputs": [
    {
     "name": "stdout",
     "output_type": "stream",
     "text": [
      "Mapped responses saved to ../data/processed/mapped_after_responses.json\n"
     ]
    }
   ],
   "source": [
    "\n",
    "map_responses_to_numerical_values('../data/processed/responses_after.json', '../data/raw/question_codes.json', '../data/processed/mapped_after_responses.json')\n"
   ]
  },
  {
   "cell_type": "code",
   "execution_count": null,
   "metadata": {},
   "outputs": [
    {
     "name": "stdout",
     "output_type": "stream",
     "text": [
      "Warning: No match found for selected option 'n/a' in question 'Agree or disagree: We no longer have room in the US for refugees from countries other than Ukraine'\n",
      "Mapped responses saved to ../data/processed/mapped_before_responses.json\n"
     ]
    }
   ],
   "source": [
    "map_responses_to_numerical_values('../data/processed/responses.json', '../data/raw/question_codes.json', '../data/processed/mapped_before_responses.json')"
   ]
  },
  {
   "cell_type": "markdown",
   "metadata": {},
   "source": [
    "### General Opinion Changes Before vs After Exposure to Articles"
   ]
  },
  {
   "cell_type": "code",
   "execution_count": null,
   "metadata": {},
   "outputs": [
    {
     "name": "stdout",
     "output_type": "stream",
     "text": [
      "        user_id                                           question before  \\\n",
      "0    IDUS103408    I feel like I am treated fairly by politicians.      6   \n",
      "1    IDUS103408  To what degree does this concern you: The situ...      2   \n",
      "2    IDUS103408  To what degree does this concern you: The stat...      4   \n",
      "3    IDUS103408  Agree or disagree: In the US, you can express ...      3   \n",
      "4    IDUS103408  Agree or disagree: We no longer have room in t...      1   \n",
      "..          ...                                                ...    ...   \n",
      "813  IDUS140555  To what degree does this concern you: The stat...      5   \n",
      "814  IDUS140555  Agree or disagree: In the US, you can express ...      6   \n",
      "815  IDUS140555  Agree or disagree: We no longer have room in t...      7   \n",
      "816  IDUS140555  Agree or disagree: Foreigners exacerbate crime...      7   \n",
      "817  IDUS140555  Agree or disagree: Foreigners are taking jobs ...      7   \n",
      "\n",
      "    after_left after_right  change_left  change_right  \n",
      "0            5           6           -1             0  \n",
      "1            4           5            2             3  \n",
      "2            1           5           -3             1  \n",
      "3            1           7           -2             4  \n",
      "4            1           1            0             0  \n",
      "..         ...         ...          ...           ...  \n",
      "813          5           2            0            -3  \n",
      "814          7           5            1            -1  \n",
      "815          7           7            0             0  \n",
      "816          7           7            0             0  \n",
      "817          7           5            0            -2  \n",
      "\n",
      "[818 rows x 7 columns]\n"
     ]
    }
   ],
   "source": [
    "import pandas as pd\n",
    "import json\n",
    "\n",
    "def calculate_opinion_change(before_responses_path, after_responses_path):\n",
    "    # Load the before and after responses\n",
    "    with open(before_responses_path, 'r') as f:\n",
    "        before_responses = [json.loads(line.strip()) for line in f.readlines()]\n",
    "\n",
    "    with open(after_responses_path, 'r') as f:\n",
    "        after_responses = [json.loads(line.strip()) for line in f.readlines()]\n",
    "\n",
    "    # Convert to dictionaries for easier lookup\n",
    "    before_dict = {(r['user_id'], r['question']): r['numerical_response'] for r in before_responses}\n",
    "    after_dict = {(r['user_id'], r['question'], r['article_index']): r['numerical_response'] for r in after_responses}\n",
    "\n",
    "    # Calculate opinion change for each user/question pair\n",
    "    changes = []\n",
    "    for (user_id, question), before_value in before_dict.items():\n",
    "        # Get the after values for both left- and right-aligned articles\n",
    "        after_left = after_dict.get((user_id, question, 0))\n",
    "        after_right = after_dict.get((user_id, question, 1))\n",
    "\n",
    "        if after_left and after_right:\n",
    "            changes.append({\n",
    "                \"user_id\": user_id,\n",
    "                \"question\": question,\n",
    "                \"before\": before_value,\n",
    "                \"after_left\": after_left,\n",
    "                \"after_right\": after_right,\n",
    "                \"change_left\": int(after_left) - int(before_value),\n",
    "                \"change_right\": int(after_right) - int(before_value)\n",
    "            })\n",
    "\n",
    "    return pd.DataFrame(changes)\n",
    "\n",
    "# Example usage\n",
    "changes_df = calculate_opinion_change('../data/processed/mapped_before_responses.json', '../data/processed/mapped_after_responses.json')\n",
    "print(changes_df)\n"
   ]
  },
  {
   "cell_type": "code",
   "execution_count": null,
   "metadata": {},
   "outputs": [
    {
     "data": {
      "text/plain": [
       "Index(['user_id', 'question', 'before', 'after_left', 'after_right',\n",
       "       'change_left', 'change_right'],\n",
       "      dtype='object')"
      ]
     },
     "execution_count": 9,
     "metadata": {},
     "output_type": "execute_result"
    }
   ],
   "source": [
    "changes_df.columns"
   ]
  },
  {
   "cell_type": "code",
   "execution_count": null,
   "metadata": {},
   "outputs": [
    {
     "name": "stdout",
     "output_type": "stream",
     "text": [
      "Mean change after left-aligned articles: -0.103\n",
      "Mean change after right-aligned articles: -0.351\n",
      "Proportion of more positive changes (left-aligned): 0.22\n",
      "Proportion of more negative changes (left-aligned): 0.224\n",
      "Proportion of more positive changes (right-aligned): 0.213\n",
      "Proportion of more negative changes (right-aligned): 0.24\n"
     ]
    }
   ],
   "source": [
    "# Calculate the mean change for left- and right-aligned articles\n",
    "mean_change_left = changes_df['change_left'].mean()\n",
    "mean_change_right = changes_df['change_right'].mean()\n",
    "\n",
    "# Calculate the proportion of users whose opinion became more positive or negative\n",
    "more_positive_left = (changes_df['change_left'] > 0).mean()\n",
    "more_negative_left = (changes_df['change_left'] < 0).mean()\n",
    "\n",
    "more_positive_right = (changes_df['change_right'] > 0).mean()\n",
    "more_negative_right = (changes_df['change_right'] < 0).mean()\n",
    "\n",
    "print(f\"Mean change after left-aligned articles: {mean_change_left.round(3)}\")\n",
    "print(f\"Mean change after right-aligned articles: {mean_change_right.round(3)}\")\n",
    "print(f\"Proportion of more positive changes (left-aligned): {more_positive_left.round(3)}\")\n",
    "print(f\"Proportion of more negative changes (left-aligned): {more_negative_left.round(3)}\")\n",
    "print(f\"Proportion of more positive changes (right-aligned): {more_positive_right.round(3)}\")\n",
    "print(f\"Proportion of more negative changes (right-aligned): {more_negative_right.round(3)}\")\n"
   ]
  },
  {
   "cell_type": "code",
   "execution_count": null,
   "metadata": {},
   "outputs": [],
   "source": [
    "# Function to categorize political position and merge \"Extreme Left\" and \"Far Left\" into \"Left\"\n",
    "def categorize_political_position(political_position):\n",
    "    political_position = political_position.lower()\n",
    "    if 'left' in political_position:  # Merge both \"Far Left\" and \"Extreme Left\" into \"Left\"\n",
    "        return 'left'\n",
    "    elif 'right' in political_position:\n",
    "        return 'right'\n",
    "    else:\n",
    "        return 'moderate'  # If needed in the future\n",
    "\n",
    "# Load the demographic data and process the political position column\n",
    "def load_and_merge_demographics(changes_df, demographic_data_path):\n",
    "    # Load demographic data from the CSV\n",
    "    demographic_data = pd.read_csv(demographic_data_path)\n",
    "\n",
    "    # Process the political position column to categorize left, right, or moderate\n",
    "    demographic_data['political_alignment'] = demographic_data['Where would you place your own political position?'].apply(categorize_political_position)\n",
    "\n",
    "    # Select only the user_id and political alignment for merging\n",
    "    demographic_data = demographic_data[['user', 'political_alignment']]\n",
    "    demographic_data = demographic_data.rename(columns={'user': 'user_id'})  # Rename to match the changes_df\n",
    "\n",
    "    # Merge the opinion change data with the demographic data\n",
    "    merged_df = changes_df.merge(demographic_data, on='user_id')\n",
    "    return merged_df\n",
    "\n",
    "# Function to perform group analysis\n",
    "def group_analysis_by_alignment(changes_df, demographic_data_path):\n",
    "    # Merge the changes_df with the demographic data\n",
    "    merged_df = load_and_merge_demographics(changes_df, demographic_data_path)\n",
    "\n",
    "    # Separate participants into left- and right-leaning groups\n",
    "    left_leaning = merged_df[merged_df['political_alignment'] == 'left']\n",
    "    right_leaning = merged_df[merged_df['political_alignment'] == 'right']\n",
    "\n",
    "    # Calculate mean opinion changes for each group\n",
    "    mean_change_left_leaning = left_leaning[['change_left', 'change_right']].mean()\n",
    "    mean_change_right_leaning = right_leaning[['change_left', 'change_right']].mean()\n",
    "\n",
    "    print(f\"Mean opinion change for left-leaning participants:\\n{mean_change_left_leaning}\")\n",
    "    print(f\"Mean opinion change for right-leaning participants:\\n{mean_change_right_leaning}\")\n"
   ]
  },
  {
   "cell_type": "code",
   "execution_count": null,
   "metadata": {},
   "outputs": [
    {
     "name": "stdout",
     "output_type": "stream",
     "text": [
      "      user_id                                           question before  \\\n",
      "0  IDUS103408    I feel like I am treated fairly by politicians.      6   \n",
      "1  IDUS103408  To what degree does this concern you: The situ...      2   \n",
      "2  IDUS103408  To what degree does this concern you: The stat...      4   \n",
      "3  IDUS103408  Agree or disagree: In the US, you can express ...      3   \n",
      "4  IDUS103408  Agree or disagree: We no longer have room in t...      1   \n",
      "\n",
      "  after_left after_right  change_left  change_right political_alignment  \\\n",
      "0          5           6           -1             0               right   \n",
      "1          4           5            2             3               right   \n",
      "2          1           5           -3             1               right   \n",
      "3          1           7           -2             4               right   \n",
      "4          1           1            0             0               right   \n",
      "\n",
      "   polarized  \n",
      "0      False  \n",
      "1       True  \n",
      "2       True  \n",
      "3       True  \n",
      "4      False  \n"
     ]
    }
   ],
   "source": [
    "print(merged_df.head())  #  Shows row by row if the agents got polarised or not"
   ]
  },
  {
   "cell_type": "code",
   "execution_count": null,
   "metadata": {},
   "outputs": [
    {
     "name": "stdout",
     "output_type": "stream",
     "text": [
      "Mean opinion change for left-leaning participants:\n",
      "change_left     0.014620\n",
      "change_right   -0.540936\n",
      "dtype: float64\n",
      "Mean opinion change for right-leaning participants:\n",
      "change_left    -0.186975\n",
      "change_right   -0.214286\n",
      "dtype: float64\n"
     ]
    }
   ],
   "source": [
    "\n",
    "group_analysis_by_alignment(changes_df, '../data/processed/combined_data.csv')"
   ]
  },
  {
   "cell_type": "code",
   "execution_count": null,
   "metadata": {},
   "outputs": [],
   "source": [
    "import numpy as np\n",
    "\n",
    "# Function to check polarization based on alignment\n",
    "def check_polarization(row, alignment):\n",
    "    if alignment == 'left':\n",
    "        return row['change_left'] < 0  # Moving towards more extreme (lower) values for left-leaning participants\n",
    "    elif alignment == 'right':\n",
    "        return row['change_right'] > 0  # Moving towards more extreme (higher) values for right-leaning participants\n",
    "\n",
    "# Apply polarization check for each participant\n",
    "def polarization_analysis(merged_df):\n",
    "    merged_df['polarized'] = merged_df.apply(\n",
    "        lambda row: check_polarization(row, row['political_alignment']), axis=1\n",
    "    )\n",
    "\n",
    "    # Calculate the percentage of polarized participants\n",
    "    polarization_stats = merged_df.groupby('political_alignment')['polarized'].mean()\n",
    "    print(f\"Proportion of polarized participants:\\n{polarization_stats}\")\n",
    "\n",
    "\n"
   ]
  },
  {
   "cell_type": "code",
   "execution_count": null,
   "metadata": {},
   "outputs": [
    {
     "data": {
      "image/png": "[encoded data removed]",
      "text/plain": [
       "<Figure size 1000x600 with 1 Axes>"
      ]
     },
     "metadata": {},
     "output_type": "display_data"
    }
   ],
   "source": [
    "import matplotlib.pyplot as plt\n",
    "import numpy as np\n",
    "\n",
    "# Function to create a bar plot for opinion changes with custom colors\n",
    "def plot_opinion_changes(left_mean, right_mean):\n",
    "    # Convert the Series to lists\n",
    "    change_left = left_mean.values.tolist()\n",
    "    change_right = right_mean.values.tolist()\n",
    "\n",
    "    # Define the categories (Left and Right participants)\n",
    "    categories = ['Left Participants', 'Right Participants']\n",
    "\n",
    "    # Set up the plot\n",
    "    plt.figure(figsize=(10, 6))\n",
    "\n",
    "    # Plot bars with customized colors\n",
    "    bar_width = 0.35\n",
    "    index = np.arange(len(categories))\n",
    "\n",
    "    # Bar plot with custom colors\n",
    "    plt.bar(index, [change_left[0], change_right[0]], bar_width, label='Left-Aligned Articles', color='#4CAF50')  # Greenish color\n",
    "    plt.bar(index + bar_width, [change_left[1], change_right[1]], bar_width, label='Right-Aligned Articles', color='#FF5722')  # Reddish color\n",
    "\n",
    "    # Add labels and formatting\n",
    "    plt.xlabel('Political Alignment', fontsize=14)\n",
    "    plt.ylabel('Mean Opinion Change', fontsize=14)\n",
    "    plt.title('Mean Opinion Change After Reading Articles', fontsize=16)\n",
    "    plt.xticks(index + bar_width / 2, categories)\n",
    "    plt.legend()\n",
    "\n",
    "    # Show the plot\n",
    "    plt.tight_layout()\n",
    "    plt.show()\n",
    "\n",
    "# Example usage\n",
    "plot_opinion_changes(mean_change_left_leaning, mean_change_right_leaning)\n"
   ]
  },
  {
   "cell_type": "code",
   "execution_count": null,
   "metadata": {},
   "outputs": [
    {
     "data": {
      "image/png": "[encoded data removed]",
      "text/plain": [
       "<Figure size 1200x600 with 1 Axes>"
      ]
     },
     "metadata": {},
     "output_type": "display_data"
    }
   ],
   "source": [
    "import seaborn as sns\n",
    "import matplotlib.pyplot as plt\n",
    "import numpy as np\n",
    "\n",
    "# Function to plot histogram with uniform bar widths\n",
    "def plot_uniform_histogram_of_changes(merged_df):\n",
    "    plt.figure(figsize=(12, 6))\n",
    "\n",
    "    # Define a range of bins for both histograms\n",
    "    bins = np.linspace(-6, 6, 15)  # 15 equally spaced bins from -6 to +6\n",
    "\n",
    "    # Create histograms for left and right participants with the same bins\n",
    "    sns.histplot(merged_df[merged_df['political_alignment'] == 'left']['change_left'], \n",
    "                 color='#66BB6A', label='Left-Aligned Articles (Left-Leaning)', kde=True, \n",
    "                 bins=bins, alpha=0.6)\n",
    "    sns.histplot(merged_df[merged_df['political_alignment'] == 'right']['change_right'], \n",
    "                 color='#FF7043', label='Right-Aligned Articles (Right-Leaning)', kde=True, \n",
    "                 bins=bins, alpha=0.6)\n",
    "\n",
    "    # Set axis labels and title with improved formatting\n",
    "    plt.xlabel('Opinion Change', fontsize=16, weight='bold', color='#37474F')\n",
    "    plt.ylabel('Frequency', fontsize=16, weight='bold', color='#37474F')\n",
    "    plt.title('Distribution of Opinion Changes by Article Bias', fontsize=20, weight='bold')\n",
    "\n",
    "    # Add a legend with a nicer location and gridlines for readability\n",
    "    plt.legend(fontsize=14, loc='upper left')\n",
    "    plt.grid(True, which='both', linestyle='--', linewidth=0.5, alpha=0.7)\n",
    "\n",
    "    # Set the ticks for readability\n",
    "    plt.xticks(fontsize=12)\n",
    "    plt.yticks(fontsize=12)\n",
    "\n",
    "    # Show the plot\n",
    "    plt.tight_layout()\n",
    "    plt.show()\n",
    "\n",
    "# Example usage\n",
    "plot_uniform_histogram_of_changes(merged_df)\n"
   ]
  },
  {
   "cell_type": "markdown",
   "metadata": {},
   "source": [
    "Resilience to Change: The strong peak at 0 suggests that a large portion of participants were resistant to opinion change after reading either left- or right-aligned articles. This could be due to confirmation bias, where participants hold on to their original beliefs even when exposed to new information.\n",
    "\n",
    "Polarization: The negative shifts among right-leaning participants after reading right-aligned articles suggest that polarization occurred, with some individuals moving further away from their original opinions. This could indicate that right-aligned content was more effective at driving participants to more extreme positions (either in agreement or disagreement).\n",
    "\n",
    "Left-Leaning Stability: Left-leaning participants seemed to be less affected by left-aligned articles in terms of extreme opinion shifts, which suggests that they were either already aligned with the content or less prone to extreme shifts."
   ]
  },
  {
   "cell_type": "code",
   "execution_count": null,
   "metadata": {},
   "outputs": [
    {
     "name": "stdout",
     "output_type": "stream",
     "text": [
      "Number of duplicate unique_id values: 659\n"
     ]
    }
   ],
   "source": [
    "import pandas as pd\n",
    "\n",
    "def filter_data():\n",
    "    # Read the data from ../data/raw/overall_filtered_us_data.csv\n",
    "    data = pd.read_csv('../data/raw/overall_filtered_us_data.csv', low_memory=False)\n",
    "\n",
    "    # Read the user ids from ../data/processed/combined_data.csv\n",
    "    user_ids = pd.read_csv('../data/processed/combined_data.csv')['user']\n",
    "\n",
    "    # Filter the data to only include rows with user ids present in combined_data.csv\n",
    "    data = data[data['unique_id'].isin(user_ids)]\n",
    "\n",
    "    # Check for duplicate unique_id values before setting the index\n",
    "    duplicate_ids = data['unique_id'].duplicated().sum()\n",
    "    print(f\"Number of duplicate unique_id values: {duplicate_ids}\")\n",
    "\n",
    "    # Option 1: Drop duplicate ids if duplicates exist\n",
    "    if duplicate_ids > 0:\n",
    "        data = data.drop_duplicates(subset='unique_id')\n",
    "\n",
    "    # Read the question codes from ../data/raw/question_codes.json\n",
    "    question_codes = pd.read_json('../data/raw/question_codes.json')['code']\n",
    "    columns_to_keep = ['unique_id'] + list(question_codes)\n",
    "    data = data[columns_to_keep]\n",
    "\n",
    "    # Set unique_id as the index after handling duplicates\n",
    "    data.set_index('unique_id', inplace=True)\n",
    "\n",
    "    # Drop unnecessary columns\n",
    "    data.drop([\"F2A14\",'F1A9_1', 'F1A13_1', 'F1A16_1', 'F2A8', 'F3A5_1'], axis=1, inplace=True)  # keep Index(['F1A10_1', 'F2A6', 'F2A7', 'F2A9', 'F3A3_1', 'F3A6_1', 'F3A7_1','F3A8_1'],\n",
    "\n",
    "\n",
    "    return data\n",
    "\n",
    "filtered_data = filter_data()\n",
    "\n",
    "# Save the filtered data\n",
    "filtered_data.to_csv('../data/processed/filtered_data.csv')\n"
   ]
  },
  {
   "cell_type": "code",
   "execution_count": null,
   "metadata": {},
   "outputs": [],
   "source": [
    "# real people responses only for questions relevant to the study\n",
    "filtered_data.head()\n",
    "real_persona_df = filtered_data"
   ]
  },
  {
   "cell_type": "markdown",
   "metadata": {},
   "source": [
    "### Plan\n",
    "* Step 1: Align Before and After Responses\n",
    "Input Data: We will need the responses from the LLM before and after exposure to articles.\n",
    "\n",
    "Real-World Persona Comparison: Compare these responses to the real-world participants and compute a weighted difference and categorical accuracy.\n",
    "\n",
    "Parse the responses from before and after article exposure.\n",
    "Compute the weighted difference by comparing response vectors (likely numerical representations) between LLM and real-world personas.\n",
    "Calculate categorical accuracy by measuring how often the LLM responses match real-world responses.\n",
    "* Step 2: Analyze Article Bias Alignment\n",
    "Input Data: Left-aligned and right-aligned articles.\n",
    "\n",
    "Goal: Find out whether left-aligned or right-aligned articles better align LLM responses with real-world participants.\n",
    "\n",
    "Analyze the impact of both left-aligned and right-aligned articles on LLM’s responses.\n",
    "Compare which set of articles produces responses closer to real-world participants (potentially using the same metrics from Step 1).\n",
    "* Step 3: Run Baseline Comparisons\n",
    "Input Data: Random, average, and most frequent responses.\n",
    "\n",
    "Goal: Compare the LLM performance to a random guess, average, and frequent responses.\n",
    "\n",
    "Generate random responses, calculate the average response, and identify the most frequent responses.\n",
    "Compare these with the LLM responses to assess the performance difference."
   ]
  },
  {
   "cell_type": "code",
   "execution_count": null,
   "metadata": {},
   "outputs": [
    {
     "name": "stdout",
     "output_type": "stream",
     "text": [
      "[{'unique_id': 'IDUS103408', 'question_code': 'F1A9_1', 'response': 'Completely agree', 'response_code': '1'}, {'unique_id': 'IDUS103408', 'question_code': 'F1A10_1', 'response': 'Disagree', 'response_code': '6'}, {'unique_id': 'IDUS103408', 'question_code': 'F1A13_1', 'response': 'Disagree', 'response_code': '6'}, {'unique_id': 'IDUS103408', 'question_code': 'F1A16_1', 'response': 'Completely disagree', 'response_code': '7'}, {'unique_id': 'IDUS103408', 'question_code': 'F2A6', 'response': 'very concerned', 'response_code': '5'}]\n"
     ]
    }
   ],
   "source": [
    "import json\n",
    "import re\n",
    "\n",
    "# Step 1: Load the before responses\n",
    "with open('../data/processed/responses.json', 'r', encoding=\"utf-8\") as f:\n",
    "    before_responses = json.load(f)\n",
    "\n",
    "# Step 2: Load the question_code_map\n",
    "with open('../data/raw/question_codes.json', 'r', encoding=\"utf-8\") as f:\n",
    "    question_code_map = json.load(f)\n",
    "\n",
    "# Step 3: Create a mapping from question to code and options\n",
    "question_code_mapping = {entry['question']: entry['code'] for entry in question_code_map}\n",
    "code_options_mapping = {entry['code']: entry['options'] for entry in question_code_map}\n",
    "\n",
    "# Step 4: Extract clean questions from before_responses\n",
    "def extract_clean_question(prompt_text):\n",
    "    # Regex to extract the actual question\n",
    "    match = re.search(r\"\\*\\*Question\\*\\*: (.*?)\\n\", prompt_text)\n",
    "    if match:\n",
    "        return match.group(1).strip()\n",
    "    return None\n",
    "\n",
    "# Step 5: Map the responses back to their code\n",
    "mapped_responses = []\n",
    "\n",
    "for response in before_responses:\n",
    "    clean_question = extract_clean_question(response['question'])\n",
    "    if clean_question and clean_question in question_code_mapping:\n",
    "        code = question_code_mapping[clean_question]\n",
    "        response_value = response['response'][\"selected_option\"]  # Assuming 'response' holds the actual response\n",
    "\n",
    "        # Check if response_value is a string\n",
    "        if isinstance(response_value, str):\n",
    "            # Convert the response to its corresponding numeric value\n",
    "            options = code_options_mapping.get(code, {})\n",
    "            response_code = None\n",
    "            for key, option in options.items():\n",
    "                if response_value.lower() == option.lower():\n",
    "                    response_code = key\n",
    "                    break\n",
    "            \n",
    "            # Append the mapped response with code and numeric response value\n",
    "            mapped_responses.append({\n",
    "                'unique_id': response['user_id'],\n",
    "                'question_code': code,\n",
    "                'response': response_value,\n",
    "                'response_code': response_code\n",
    "            })\n",
    "        else:\n",
    "            # Handle the case where response_value is not a string (log or inspect if needed)\n",
    "            print(f\"Unexpected response format: {response_value}\")\n",
    "\n",
    "# Step 6: Output the mapped responses\n",
    "print(mapped_responses[:5])  # To verify the first few entries\n"
   ]
  },
  {
   "cell_type": "code",
   "execution_count": null,
   "metadata": {},
   "outputs": [],
   "source": [
    "data_dict = {}\n",
    "\n",
    "# Iterate over the mapped_responses to fill the data dictionary\n",
    "for response in mapped_responses:\n",
    "    unique_id = response['unique_id']\n",
    "    question_code = response['question_code']\n",
    "    response_code = response['response_code']\n",
    "    \n",
    "    # Initialize a dictionary for each unique_id if not already created\n",
    "    if unique_id not in data_dict:\n",
    "        data_dict[unique_id] = {}\n",
    "    \n",
    "    # Assign the response_code for each question_code\n",
    "    data_dict[unique_id][question_code] = response_code\n",
    "\n",
    "# Step 2: Convert the dictionary to a DataFrame\n",
    "df = pd.DataFrame.from_dict(data_dict, orient='index')\n",
    "df.reset_index(inplace=True)\n",
    "\n",
    "# Rename the new index column to 'unique_id'\n",
    "df.rename(columns={'index': 'unique_id'}, inplace=True)\n",
    "df.drop([\"F2A14\",'F1A9_1', 'F1A13_1', 'F1A16_1', 'F2A8', 'F3A5_1'], axis=1, inplace=True)\n",
    "df.set_index('unique_id', inplace=True)\n",
    "df.head()\n",
    "\n",
    "before_df = df"
   ]
  },
  {
   "cell_type": "code",
   "execution_count": null,
   "metadata": {},
   "outputs": [],
   "source": [
    "### Same thing for after responses, but have 2 different dataframes depending on the article index (0 or 1). 0 is left, 1 is right aligned articles"
   ]
  },
  {
   "cell_type": "code",
   "execution_count": null,
   "metadata": {},
   "outputs": [],
   "source": []
  },
  {
   "cell_type": "code",
   "execution_count": null,
   "metadata": {},
   "outputs": [
    {
     "name": "stdout",
     "output_type": "stream",
     "text": [
      "           F1A10_1 F2A7 F2A9 F3A3_1 F3A6_1 F3A7_1 F3A8_1\n",
      "unique_id                                               \n",
      "IDUS103408       5    4    1      1      1      1      1\n",
      "IDUS103554       6    5    3      1      1      1      1\n",
      "IDUS103826       7    5    2      3      1      1      1\n",
      "IDUS104424       7    3    4      4      7      7      5\n",
      "IDUS104578       6    5    2      1      1      1      1\n",
      "           F1A10_1 F2A7 F2A9 F3A3_1 F3A6_1 F3A7_1 F3A8_1\n",
      "unique_id                                               \n",
      "IDUS103408       6    5    5      7      1      1      1\n",
      "IDUS103554       1    2    5      7      1      1      1\n",
      "IDUS103826       2    1    5      6      1      1      1\n",
      "IDUS104424       7    2    1      5      7      1      7\n",
      "IDUS104578       1    1    5      6      1      1      1\n"
     ]
    }
   ],
   "source": [
    "import json\n",
    "import re\n",
    "import pandas as pd\n",
    "\n",
    "# Step 1: Load the after responses\n",
    "with open('../data/processed/responses_after.json', 'r', encoding=\"utf-8\") as f:\n",
    "    after_responses = json.load(f)\n",
    "\n",
    "# Step 2: Load the question_code_map\n",
    "with open('../data/raw/question_codes.json', 'r', encoding=\"utf-8\") as f:\n",
    "    question_code_map = json.load(f)\n",
    "\n",
    "# Step 3: Create a mapping from question to code and options\n",
    "question_code_mapping = {entry['question']: entry['code'] for entry in question_code_map}\n",
    "code_options_mapping = {entry['code']: entry['options'] for entry in question_code_map}\n",
    "\n",
    "# Step 4: Extract clean questions from after_responses\n",
    "def extract_clean_question(prompt_text):\n",
    "    match = re.search(r\"\\*\\*Question\\*\\*: (.*?)\\n\", prompt_text)\n",
    "    if match:\n",
    "        return match.group(1).strip()\n",
    "    return None\n",
    "\n",
    "# Step 5: Initialize separate lists for left and right aligned responses\n",
    "left_mapped_responses = []\n",
    "right_mapped_responses = []\n",
    "\n",
    "for response in after_responses:\n",
    "    clean_question = response['question']  # Assuming the questions in \"responses_after.json\" are already clean\n",
    "    article_index = response['article_index']\n",
    "    \n",
    "    if clean_question and clean_question in question_code_mapping:\n",
    "        code = question_code_mapping[clean_question]\n",
    "        response_value = response['response'][\"selected_option\"]\n",
    "\n",
    "        # Check if response_value is a string\n",
    "        if isinstance(response_value, str):\n",
    "            # Convert the response to its corresponding numeric value\n",
    "            options = code_options_mapping.get(code, {})\n",
    "            response_code = None\n",
    "            for key, option in options.items():\n",
    "                if response_value.lower() == option.lower():\n",
    "                    response_code = key\n",
    "                    break\n",
    "\n",
    "            # Separate responses into left or right aligned based on the article_index\n",
    "            mapped_response = {\n",
    "                'unique_id': response['user_id'],\n",
    "                'question_code': code,\n",
    "                'response': response_value,\n",
    "                'response_code': response_code\n",
    "            }\n",
    "            \n",
    "            if article_index == 0:\n",
    "                left_mapped_responses.append(mapped_response)\n",
    "            elif article_index == 1:\n",
    "                right_mapped_responses.append(mapped_response)\n",
    "\n",
    "# Step 6: Create data dictionaries for left and right responses\n",
    "left_data_dict = {}\n",
    "right_data_dict = {}\n",
    "\n",
    "# Iterate over the left mapped_responses to fill the left data dictionary\n",
    "for response in left_mapped_responses:\n",
    "    unique_id = response['unique_id']\n",
    "    question_code = response['question_code']\n",
    "    response_code = response['response_code']\n",
    "    \n",
    "    if unique_id not in left_data_dict:\n",
    "        left_data_dict[unique_id] = {}\n",
    "    left_data_dict[unique_id][question_code] = response_code\n",
    "\n",
    "# Iterate over the right mapped_responses to fill the right data dictionary\n",
    "for response in right_mapped_responses:\n",
    "    unique_id = response['unique_id']\n",
    "    question_code = response['question_code']\n",
    "    response_code = response['response_code']\n",
    "    \n",
    "    if unique_id not in right_data_dict:\n",
    "        right_data_dict[unique_id] = {}\n",
    "    right_data_dict[unique_id][question_code] = response_code\n",
    "\n",
    "# Step 7: Convert the left and right dictionaries to DataFrames\n",
    "left_df = pd.DataFrame.from_dict(left_data_dict, orient='index')\n",
    "right_df = pd.DataFrame.from_dict(right_data_dict, orient='index')\n",
    "\n",
    "# Step 8: Reset index and rename it to 'unique_id'\n",
    "left_df.reset_index(inplace=True)\n",
    "right_df.reset_index(inplace=True)\n",
    "\n",
    "left_df.rename(columns={'index': 'unique_id'}, inplace=True)\n",
    "right_df.rename(columns={'index': 'unique_id'}, inplace=True)\n",
    "\n",
    "# Step 9: Drop unwanted columns (if necessary)\n",
    "columns_to_drop = [\"F2A14\",'F1A9_1', 'F1A13_1', 'F1A16_1', 'F2A8', 'F3A5_1']\n",
    "left_df.drop(columns_to_drop, axis=1, inplace=True, errors='ignore')\n",
    "right_df.drop(columns_to_drop, axis=1, inplace=True, errors='ignore')\n",
    "\n",
    "# Step 10: Set 'unique_id' as the index for both DataFrames\n",
    "left_df.set_index('unique_id', inplace=True)\n",
    "right_df.set_index('unique_id', inplace=True)\n",
    "\n",
    "# Output the head of both DataFrames to verify\n",
    "print(left_df.head())\n",
    "print(right_df.head())\n"
   ]
  },
  {
   "cell_type": "markdown",
   "metadata": {},
   "source": [
    "left_df and right_df refer to the bias of the articles"
   ]
  },
  {
   "cell_type": "code",
   "execution_count": null,
   "metadata": {},
   "outputs": [],
   "source": []
  },
  {
   "cell_type": "code",
   "execution_count": null,
   "metadata": {},
   "outputs": [
    {
     "name": "stdout",
     "output_type": "stream",
     "text": [
      "---- DF Alignment Evaluation ----\n",
      "Exact Match Accuracy: 22.47%\n",
      "Interpretation: The responses exactly match real people's responses.\n",
      "'Close Enough' Accuracy (within 2 steps): 64.10%\n",
      "Interpretation: The responses are close to real people's responses within the threshold.\n",
      "Mean Squared Error (MSE): 6.83\n",
      "Interpretation: A high MSE indicates some large mismatches between responses.\n",
      "Mean Absolute Error (MAE): 2.01\n",
      "Interpretation: On average, responses are about 2.01 steps away from real people's responses.\n",
      "Categorical Accuracy: 39.07%\n",
      "Interpretation: The general sentiment or concern level matches this percentage of the time.\n",
      "-----------------------------------\n"
     ]
    }
   ],
   "source": [
    "from sklearn.metrics import mean_squared_error, mean_absolute_error\n",
    "import numpy as np\n",
    "import pandas as pd\n",
    "\n",
    "# Function to categorize the response based on question code\n",
    "def categorize_response(response_code, question_code):\n",
    "    if isinstance(question_code, str) and question_code.startswith(\"F2\"):  # Concern-based questions\n",
    "        if response_code in [1, 2]:  \n",
    "            return 'Low Concern'\n",
    "        elif response_code == 3:  \n",
    "            return 'Moderate Concern'\n",
    "        elif response_code in [4, 5]:  \n",
    "            return 'High Concern'\n",
    "    elif isinstance(question_code, str):  # Agree/Disagree scale questions\n",
    "        if response_code in [1, 2]:  \n",
    "            return 'Positive'\n",
    "        elif response_code in [3, 4, 5]:  \n",
    "            return 'Neutral'\n",
    "        elif response_code in [6, 7]:  \n",
    "            return 'Negative'\n",
    "    return 'Unknown'\n",
    "\n",
    "# Adapted function to evaluate alignment between DataFrames (LLM vs Real responses)\n",
    "def evaluate_df_alignment(df, real_df, acceptable_difference_threshold=2):\n",
    "    \"\"\"\n",
    "    Evaluates the alignment between left_df/right_df and real_persona_df using various metrics.\n",
    "    \n",
    "    Args:\n",
    "    - df (pd.DataFrame): DataFrame (either left_df or right_df).\n",
    "    - real_df (pd.DataFrame): DataFrame of real responses.\n",
    "    - acceptable_difference_threshold (int): Threshold for \"close enough\" accuracy.\n",
    "    \n",
    "    Outputs a summary of metrics and their interpretation.\n",
    "    \"\"\"\n",
    "    \n",
    "    # Align the two DataFrames to ensure their indices and columns match\n",
    "    df_aligned, real_df_aligned = df.align(real_df, join='inner', axis=0)\n",
    "\n",
    "    # Stack the DataFrames to get user responses along with the question codes (from column names)\n",
    "    comparison_df = pd.DataFrame({\n",
    "        'response_code': df_aligned.stack(),\n",
    "        'real_response_code': real_df_aligned.stack()\n",
    "    }).reset_index()\n",
    "\n",
    "    # The 'level_1' column in the stacked DataFrame contains the question codes (column names from original DataFrame)\n",
    "    comparison_df.rename(columns={'level_1': 'question_code'}, inplace=True)\n",
    "    \n",
    "    # Ensure question_code is a string\n",
    "    comparison_df['question_code'] = comparison_df['question_code'].astype(str)\n",
    "\n",
    "    # Convert response_code and real_response_code to numeric\n",
    "    comparison_df['response_code'] = pd.to_numeric(comparison_df['response_code'], errors='coerce')\n",
    "    comparison_df['real_response_code'] = pd.to_numeric(comparison_df['real_response_code'], errors='coerce')\n",
    "\n",
    "    # Drop rows with NaN in response_code or real_response_code\n",
    "    comparison_df.dropna(subset=['response_code', 'real_response_code'], inplace=True)\n",
    "\n",
    "    # Calculate the difference\n",
    "    comparison_df['difference'] = np.abs(comparison_df['response_code'] - comparison_df['real_response_code'])\n",
    "    \n",
    "    # Exact Match Accuracy\n",
    "    exact_match_accuracy = (comparison_df['response_code'] == comparison_df['real_response_code']).mean() * 100\n",
    "    \n",
    "    # \"Close Enough\" Accuracy\n",
    "    close_enough_accuracy = (comparison_df['difference'] <= acceptable_difference_threshold).mean() * 100\n",
    "    \n",
    "    # Mean Squared Error (MSE)\n",
    "    mse = mean_squared_error(comparison_df['real_response_code'], comparison_df['response_code'])\n",
    "    \n",
    "    # Mean Absolute Error (MAE)\n",
    "    mae = mean_absolute_error(comparison_df['real_response_code'], comparison_df['response_code'])\n",
    "    \n",
    "    # Apply categorization based on question_code and response_code\n",
    "    comparison_df['real_response_category'] = comparison_df.apply(\n",
    "        lambda row: categorize_response(row['real_response_code'], row['question_code']), axis=1)\n",
    "    comparison_df['response_category'] = comparison_df.apply(\n",
    "        lambda row: categorize_response(row['response_code'], row['question_code']), axis=1)\n",
    "    \n",
    "    # Categorical Accuracy\n",
    "    categorical_accuracy = (comparison_df['real_response_category'] == comparison_df['response_category']).mean() * 100\n",
    "    \n",
    "    # Print the metrics with interpretations\n",
    "    print(\"---- DF Alignment Evaluation ----\")\n",
    "    print(f\"Exact Match Accuracy: {exact_match_accuracy:.2f}%\")\n",
    "    print(\"Interpretation: The responses exactly match real people's responses.\")\n",
    "    \n",
    "    print(f\"'Close Enough' Accuracy (within {acceptable_difference_threshold} steps): {close_enough_accuracy:.2f}%\")\n",
    "    print(\"Interpretation: The responses are close to real people's responses within the threshold.\")\n",
    "    \n",
    "    print(f\"Mean Squared Error (MSE): {mse:.2f}\")\n",
    "    print(\"Interpretation: A high MSE indicates some large mismatches between responses.\")\n",
    "    \n",
    "    print(f\"Mean Absolute Error (MAE): {mae:.2f}\")\n",
    "    print(f\"Interpretation: On average, responses are about {mae:.2f} steps away from real people's responses.\")\n",
    "    \n",
    "    print(f\"Categorical Accuracy: {categorical_accuracy:.2f}%\")\n",
    "    print(\"Interpretation: The general sentiment or concern level matches this percentage of the time.\")\n",
    "    print(\"-----------------------------------\")\n",
    "\n",
    "# Example usage with left_df and real_persona_df\n",
    "evaluate_df_alignment(left_df_filtered, real_persona_df_filtered)\n"
   ]
  },
  {
   "cell_type": "code",
   "execution_count": null,
   "metadata": {},
   "outputs": [
    {
     "name": "stdout",
     "output_type": "stream",
     "text": [
      "0\n",
      "0\n",
      "0\n"
     ]
    }
   ],
   "source": [
    "# compare the left people in the persona dataframe with the left people in the left dataframe and see if the accuracy is higher."
   ]
  },
  {
   "cell_type": "markdown",
   "metadata": {},
   "source": [
    "### Does Polarized = Better Aligned?"
   ]
  },
  {
   "cell_type": "code",
   "execution_count": null,
   "metadata": {},
   "outputs": [],
   "source": [
    "# Load the combined dataset to identify political positions\n",
    "combined_df = pd.read_csv('../data/processed/combined_data.csv', )\n",
    "\n"
   ]
  },
  {
   "cell_type": "code",
   "execution_count": null,
   "metadata": {},
   "outputs": [
    {
     "name": "stdout",
     "output_type": "stream",
     "text": [
      "Number of users identifying as 'Far Left' or 'Extreme Left': 49\n"
     ]
    }
   ],
   "source": [
    "# Filter users who identify as \"Far Left\" or \"Extreme Left\"\n",
    "left_users = combined_df[combined_df[\"Where would you place your own political position?\"].isin([\"Far Left\", \"Extreme Left\"])]\n",
    "\n",
    "# Get the list of user IDs for those on the \"Far Left\" or \"Extreme Left\"\n",
    "left_user_ids = left_users['user'].tolist()\n",
    "\n",
    "# Check how many users are identified\n",
    "print(f\"Number of users identifying as 'Far Left' or 'Extreme Left': {len(left_user_ids)}\")\n"
   ]
  },
  {
   "cell_type": "code",
   "execution_count": null,
   "metadata": {},
   "outputs": [
    {
     "name": "stdout",
     "output_type": "stream",
     "text": [
      "Filtered left_df shape: (49, 7)\n",
      "Filtered real_persona_df shape: (49, 7)\n"
     ]
    }
   ],
   "source": [
    "# Filter the left_df and real_persona_df for the selected users\n",
    "left_df_far_left = left_df_filtered[left_df_filtered.index.isin(left_user_ids)]\n",
    "real_persona_df_far_left = real_persona_df_filtered[real_persona_df_filtered.index.isin(left_user_ids)]\n",
    "\n",
    "# Check the shapes after filtering\n",
    "print(f\"Filtered left_df shape: {left_df_far_left.shape}\")\n",
    "print(f\"Filtered real_persona_df shape: {real_persona_df_far_left.shape}\")\n"
   ]
  },
  {
   "cell_type": "code",
   "execution_count": null,
   "metadata": {},
   "outputs": [
    {
     "name": "stdout",
     "output_type": "stream",
     "text": [
      "---- DF Alignment Evaluation ----\n",
      "Exact Match Accuracy: 21.87%\n",
      "Interpretation: The responses exactly match real people's responses.\n",
      "'Close Enough' Accuracy (within 2 steps): 64.72%\n",
      "Interpretation: The responses are close to real people's responses within the threshold.\n",
      "Mean Squared Error (MSE): 6.61\n",
      "Interpretation: A high MSE indicates some large mismatches between responses.\n",
      "Mean Absolute Error (MAE): 1.99\n",
      "Interpretation: On average, responses are about 1.99 steps away from real people's responses.\n",
      "Categorical Accuracy: 38.48%\n",
      "Interpretation: The general sentiment or concern level matches this percentage of the time.\n",
      "-----------------------------------\n"
     ]
    }
   ],
   "source": [
    "\n",
    "\n",
    "# Step 4: Re-evaluate the alignment accuracy\n",
    "evaluate_df_alignment(left_df_far_left, real_persona_df_far_left)\n"
   ]
  },
  {
   "cell_type": "code",
   "execution_count": null,
   "metadata": {},
   "outputs": [
    {
     "name": "stdout",
     "output_type": "stream",
     "text": [
      "Number of users identifying as 'Extreme Right': 68\n"
     ]
    }
   ],
   "source": [
    "# Right Users\n",
    "# Filter users who identify as \"Far Left\" or \"Extreme Left\"\n",
    "right_users = combined_df[combined_df[\"Where would you place your own political position?\"].isin([\"Extreme Right\"])]\n",
    "\n",
    "# Get the list of user IDs for those on the \"Far Left\" or \"Extreme Left\"\n",
    "right_user_ids = right_users['user'].tolist()\n",
    "\n",
    "# Check how many users are identified\n",
    "print(f\"Number of users identifying as 'Extreme Right': {len(right_user_ids)}\")\n"
   ]
  },
  {
   "cell_type": "code",
   "execution_count": null,
   "metadata": {},
   "outputs": [
    {
     "name": "stdout",
     "output_type": "stream",
     "text": [
      "Filtered right_df shape: (68, 7)\n",
      "Filtered real_persona_df shape: (68, 7)\n"
     ]
    }
   ],
   "source": [
    "# Filter the left_df and real_persona_df for the selected users\n",
    "right_df_far_right = right_df_filtered[right_df_filtered.index.isin(right_user_ids)]\n",
    "real_persona_df_far_right = real_persona_df_filtered[real_persona_df_filtered.index.isin(right_user_ids)]\n",
    "\n",
    "# Check the shapes after filtering\n",
    "print(f\"Filtered right_df shape: {right_df_far_right.shape}\")\n",
    "print(f\"Filtered real_persona_df shape: {real_persona_df_far_right.shape}\")\n"
   ]
  },
  {
   "cell_type": "code",
   "execution_count": null,
   "metadata": {},
   "outputs": [
    {
     "name": "stdout",
     "output_type": "stream",
     "text": [
      "---- DF Alignment Evaluation ----\n",
      "Exact Match Accuracy: 23.74%\n",
      "Interpretation: The responses exactly match real people's responses.\n",
      "'Close Enough' Accuracy (within 2 steps): 64.29%\n",
      "Interpretation: The responses are close to real people's responses within the threshold.\n",
      "Mean Squared Error (MSE): 6.81\n",
      "Interpretation: A high MSE indicates some large mismatches between responses.\n",
      "Mean Absolute Error (MAE): 1.98\n",
      "Interpretation: On average, responses are about 1.98 steps away from real people's responses.\n",
      "Categorical Accuracy: 42.65%\n",
      "Interpretation: The general sentiment or concern level matches this percentage of the time.\n",
      "-----------------------------------\n"
     ]
    }
   ],
   "source": [
    "evaluate_df_alignment(right_df_far_right, real_persona_df_far_right)"
   ]
  },
  {
   "cell_type": "code",
   "execution_count": null,
   "metadata": {},
   "outputs": [],
   "source": []
  }
 ],
 "metadata": {
  "kernelspec": {
   "display_name": "venv",
   "language": "python",
   "name": "python3"
  },
  "language_info": {
   "codemirror_mode": {
    "name": "ipython",
    "version": 3
   },
   "file_extension": ".py",
   "mimetype": "text/x-python",
   "name": "python",
   "nbconvert_exporter": "python",
   "pygments_lexer": "ipython3",
   "version": "3.10.9"
  }
 },
 "nbformat": 4,
 "nbformat_minor": 2
}
